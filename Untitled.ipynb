{
  "nbformat": 4,
  "nbformat_minor": 5,
  "metadata": {
    "kernelspec": {
      "display_name": "Python 3",
      "language": "python",
      "name": "python3"
    },
    "language_info": {
      "codemirror_mode": {
        "name": "ipython",
        "version": 3
      },
      "file_extension": ".py",
      "mimetype": "text/x-python",
      "name": "python",
      "nbconvert_exporter": "python",
      "pygments_lexer": "ipython3",
      "version": "3.6.13"
    },
    "colab": {
      "name": "Untitled.ipynb",
      "provenance": [],
      "toc_visible": true
    }
  },
  "cells": [
    {
      "cell_type": "code",
      "metadata": {
        "id": "normal-canal"
      },
      "source": [
        "##prova!"
      ],
      "id": "normal-canal",
      "execution_count": null,
      "outputs": []
    },
    {
      "cell_type": "markdown",
      "metadata": {
        "id": "-U8lYaIxjMlf"
      },
      "source": [
        "Prova testo"
      ],
      "id": "-U8lYaIxjMlf"
    },
    {
      "cell_type": "code",
      "metadata": {
        "id": "wJNfJnltjN0Z"
      },
      "source": [
        ""
      ],
      "id": "wJNfJnltjN0Z",
      "execution_count": null,
      "outputs": []
    }
  ]
}