{
  "nbformat": 4,
  "nbformat_minor": 5,
  "metadata": {
    "kernelspec": {
      "display_name": "Python 3",
      "language": "python",
      "name": "python3"
    },
    "language_info": {
      "codemirror_mode": {
        "name": "ipython",
        "version": 3
      },
      "file_extension": ".py",
      "mimetype": "text/x-python",
      "name": "python",
      "nbconvert_exporter": "python",
      "pygments_lexer": "ipython3",
      "version": "3.6.13"
    },
    "colab": {
      "name": "Copia di progetto-PADI.ipynb",
      "provenance": [],
      "include_colab_link": true
    }
  },
  "cells": [
    {
      "cell_type": "markdown",
      "metadata": {
        "id": "view-in-github",
        "colab_type": "text"
      },
      "source": [
        "<a href=\"https://colab.research.google.com/github/erco99/PADI-progetto/blob/main/progetto-PADI.ipynb\" target=\"_parent\"><img src=\"https://colab.research.google.com/assets/colab-badge.svg\" alt=\"Open In Colab\"/></a>"
      ]
    },
    {
      "cell_type": "markdown",
      "metadata": {
        "id": "obO_PsEHlZnd"
      },
      "source": [
        "# Predizione temperatura media di un Paese in un determinato periodo"
      ],
      "id": "obO_PsEHlZnd"
    },
    {
      "cell_type": "markdown",
      "metadata": {
        "id": "-U8lYaIxjMlf"
      },
      "source": [
        "**Corso di laurea triennale di Ingegneria e Scienze Informatiche, Università di Bologna, sede di Cesena**\n",
        "\n",
        "\n",
        "*Programmazione di Applicazioni Data Intensive*\n",
        "\n",
        "\n",
        "*Progetto d'esame di Francesco Ercolani*"
      ],
      "id": "-U8lYaIxjMlf"
    },
    {
      "cell_type": "markdown",
      "metadata": {
        "id": "1id3AvzAnUm0"
      },
      "source": [
        "# 1a. Descrizione del problema"
      ],
      "id": "1id3AvzAnUm0"
    },
    {
      "cell_type": "code",
      "metadata": {
        "id": "QqPp1e5WnjAm"
      },
      "source": [
        "#prova"
      ],
      "id": "QqPp1e5WnjAm",
      "execution_count": null,
      "outputs": []
    },
    {
      "cell_type": "code",
      "metadata": {
        "id": "_idHG_7s1iKf"
      },
      "source": [
        ""
      ],
      "id": "_idHG_7s1iKf",
      "execution_count": null,
      "outputs": []
    }
  ]
}