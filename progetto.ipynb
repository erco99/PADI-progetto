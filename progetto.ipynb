{
  "nbformat": 4,
  "nbformat_minor": 5,
  "metadata": {
    "kernelspec": {
      "display_name": "Python 3",
      "language": "python",
      "name": "python3"
    },
    "language_info": {
      "codemirror_mode": {
        "name": "ipython",
        "version": 3
      },
      "file_extension": ".py",
      "mimetype": "text/x-python",
      "name": "python",
      "nbconvert_exporter": "python",
      "pygments_lexer": "ipython3",
      "version": "3.6.13"
    },
    "colab": {
      "name": "progetto.ipynb",
      "provenance": [],
      "collapsed_sections": [],
      "include_colab_link": true
    }
  },
  "cells": [
    {
      "cell_type": "markdown",
      "metadata": {
        "id": "view-in-github",
        "colab_type": "text"
      },
      "source": [
        "<a href=\"https://colab.research.google.com/github/erco99/PADI-progetto/blob/main/progetto.ipynb\" target=\"_parent\"><img src=\"https://colab.research.google.com/assets/colab-badge.svg\" alt=\"Open In Colab\"/></a>"
      ]
    },
    {
      "cell_type": "markdown",
      "metadata": {
        "id": "obO_PsEHlZnd"
      },
      "source": [
        "# Predizione temperatura media della superficie di un Paese in un determinato periodo"
      ],
      "id": "obO_PsEHlZnd"
    },
    {
      "cell_type": "markdown",
      "metadata": {
        "id": "-U8lYaIxjMlf"
      },
      "source": [
        "**Corso di laurea triennale di Ingegneria e Scienze Informatiche, Università di Bologna, sede di Cesena**\n",
        "\n",
        "\n",
        "*Programmazione di Applicazioni Data Intensive*\n",
        "\n",
        "\n",
        "*Progetto d'esame di Francesco Ercolani*"
      ],
      "id": "-U8lYaIxjMlf"
    },
    {
      "cell_type": "markdown",
      "metadata": {
        "id": "1id3AvzAnUm0"
      },
      "source": [
        "# 1a. Descrizione del problema e comprensione dei dati"
      ],
      "id": "1id3AvzAnUm0"
    },
    {
      "cell_type": "markdown",
      "metadata": {
        "id": "WIGYR7V7bHxK"
      },
      "source": [
        "L'obiettivo di questo progetto è di realizzare un modello che, dato un Paese ed un periodo di tempo, sia in grado di predire la temperatura media della superficie in gradi Celsius.\n",
        "\n",
        "\n",
        "Per fare ciò, si utilizzano i dati raccolti dal 1750 ad oggi."
      ],
      "id": "WIGYR7V7bHxK"
    },
    {
      "cell_type": "code",
      "metadata": {
        "id": "gMb53JHWdwBI"
      },
      "source": [
        "import numpy as np\n",
        "import pandas as pd\n",
        "import matplotlib.pyplot as plt\n",
        "import seaborn as sns\n",
        "import os.path"
      ],
      "id": "gMb53JHWdwBI",
      "execution_count": null,
      "outputs": []
    },
    {
      "cell_type": "markdown",
      "metadata": {
        "id": "B3ewvGOFfLoH"
      },
      "source": [
        "# 1b. Analisi esplorativa dei dati"
      ],
      "id": "B3ewvGOFfLoH"
    },
    {
      "cell_type": "code",
      "metadata": {
        "id": "3-eo2spEfX0W"
      },
      "source": [
        "file = \"./GlobalLandTemperaturesByCountry.csv\"\n",
        "if not os.path.exists(file):\n",
        "  print(\"problema\")\n",
        "\n",
        "temp = pd.read_csv(file, index_col=0)"
      ],
      "id": "3-eo2spEfX0W",
      "execution_count": null,
      "outputs": []
    },
    {
      "cell_type": "code",
      "metadata": {
        "id": "DaFW53kUiXIO"
      },
      "source": [
        ""
      ],
      "id": "DaFW53kUiXIO",
      "execution_count": null,
      "outputs": []
    }
  ]
}